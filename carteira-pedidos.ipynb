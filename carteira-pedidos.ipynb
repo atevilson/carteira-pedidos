{
 "cells": [
  {
   "cell_type": "markdown",
   "id": "a7c44f69-8676-4c3b-b04c-5cd0be37c875",
   "metadata": {
    "tags": []
   },
   "source": [
    "# Carteira de pedidos"
   ]
  },
  {
   "cell_type": "markdown",
   "id": "c02f2446-c338-4689-a29a-18dd81b188d3",
   "metadata": {
    "tags": []
   },
   "source": [
    "### Base Relatório"
   ]
  },
  {
   "cell_type": "code",
   "execution_count": 1,
   "id": "7b10f356-7213-48c3-839a-78cdc5979dc4",
   "metadata": {
    "tags": []
   },
   "outputs": [],
   "source": [
    "# Bibliotecas python\n",
    "from datetime import datetime, timedelta\n",
    "import matplotlib.pyplot as plt\n",
    "import pandas as pd\n",
    "import locale\n",
    "import csv\n",
    "import os"
   ]
  },
  {
   "cell_type": "code",
   "execution_count": 2,
   "id": "772572b7-e639-41e5-bccb-4483de9b8e2a",
   "metadata": {
    "tags": []
   },
   "outputs": [],
   "source": [
    "# Variável com o caminho dos arquivos txt\n",
    "arquivos_path = \"Relatorios_pedidos/\""
   ]
  },
  {
   "cell_type": "code",
   "execution_count": 3,
   "id": "6cd6dce6-80ac-4ab4-9728-4e91476b2de6",
   "metadata": {
    "tags": []
   },
   "outputs": [],
   "source": [
    "# Variável com o número de colunas dos arquivos\n",
    "expected_number_of_columns = 31"
   ]
  },
  {
   "cell_type": "markdown",
   "id": "26e9a0ed-2677-4ba1-82e5-e791bfa580b0",
   "metadata": {},
   "source": [
    "### Base dos seis relatórios extraído do ERP"
   ]
  },
  {
   "cell_type": "code",
   "execution_count": 4,
   "id": "8e7cb93f-e34c-4e7c-b943-9cecb553ff56",
   "metadata": {
    "tags": []
   },
   "outputs": [],
   "source": [
    "    # O código abaixo faz uma iteração por todos os arquivos no diretório especificado.\n",
    "    # Primeiro, processa o arquivo r1.txt e os demais posteriormente.\n",
    "    # e valida a definição do número de colunas.\n",
    "    r1_file = os.path.join(arquivos_path, \"r1.txt\")\n",
    "    if os.path.exists(r1_file):\n",
    "        with open(r1_file, \"r\", encoding=\"iso-8859-1\") as infile, open(\"temp.txt\", \"w\", encoding=\"iso-8859-1\", newline=\"\") as outfile:\n",
    "            reader = csv.reader(infile, delimiter=\"|\")\n",
    "            writer = csv.writer(outfile, delimiter=\"|\")\n",
    "\n",
    "            for row in reader:\n",
    "                if len(row) == expected_number_of_columns:\n",
    "                    writer.writerow(row)\n",
    "\n",
    "    # Ler os outros arquivos no diretório\n",
    "    for filename in os.listdir(arquivos_path):\n",
    "        if filename.endswith(\".txt\") and filename != \"r1.txt\":\n",
    "            with open(os.path.join(arquivos_path, filename), \"r\", encoding=\"iso-8859-1\") as infile, open(\"temp.txt\", \"a\", encoding=\"iso-8859-1\", newline=\"\") as outfile:\n",
    "                reader = csv.reader(infile, delimiter=\"|\")\n",
    "                writer = csv.writer(outfile, delimiter=\"|\")\n",
    "\n",
    "                for row in reader:\n",
    "                    if len(row) == expected_number_of_columns:\n",
    "                        writer.writerow(row)"
   ]
  },
  {
   "cell_type": "code",
   "execution_count": 5,
   "id": "9c05d55d-c87f-4368-8f4e-32a7cf16bc99",
   "metadata": {
    "tags": []
   },
   "outputs": [],
   "source": [
    "base = pd.read_csv(\"temp.txt\", sep=\"|\", encoding=\"iso-8859-1\")"
   ]
  },
  {
   "cell_type": "code",
   "execution_count": 6,
   "id": "190df48b-88f1-483c-857c-6c5ac22c39d8",
   "metadata": {},
   "outputs": [],
   "source": [
    "os.remove(\"temp.txt\")"
   ]
  },
  {
   "cell_type": "markdown",
   "id": "525e3ec3-1b76-45b7-9fda-79bcd3798145",
   "metadata": {
    "tags": []
   },
   "source": [
    "### Base de pedidos cancelados e pendentes "
   ]
  },
  {
   "cell_type": "code",
   "execution_count": 7,
   "id": "59960009-a3b7-433e-be60-41a236ffe756",
   "metadata": {
    "tags": []
   },
   "outputs": [
    {
     "name": "stdout",
     "output_type": "stream",
     "text": [
      "Base original de dados antes dos tratamentos: (1585357, 31)\n"
     ]
    }
   ],
   "source": [
    "# Valor da base original antes de qualquer tratamento\n",
    "print(\"Base original de dados antes dos tratamentos: \" + str(base.shape))"
   ]
  },
  {
   "cell_type": "code",
   "execution_count": 8,
   "id": "50fd6b6a-e12b-4e14-809e-18d5f5b91570",
   "metadata": {
    "tags": []
   },
   "outputs": [],
   "source": [
    "base_c = pd.read_csv(\"Relatorio_cancelados/cancelados.txt\", sep=\"|\", encoding=\"iso-8859-1\", low_memory=False)"
   ]
  },
  {
   "cell_type": "code",
   "execution_count": 9,
   "id": "4057634d-7354-48ae-9799-5bfa1392c14e",
   "metadata": {
    "tags": []
   },
   "outputs": [],
   "source": [
    "base = base.merge(base_c[[\"Número\", \"St\"]], left_on=\"Num Pedido\", right_on=\"Número\", how=\"left\")"
   ]
  },
  {
   "cell_type": "code",
   "execution_count": 10,
   "id": "fbbb1489-a93f-49d7-b78b-a54b2ab09042",
   "metadata": {
    "tags": []
   },
   "outputs": [],
   "source": [
    "base_p = pd.read_csv(\"Relatorio_pendentes/pendentes.txt\", sep=\"|\", encoding=\"iso-8859-1\")"
   ]
  },
  {
   "cell_type": "code",
   "execution_count": 11,
   "id": "8a3b3849-73b9-4f37-b41a-9118ca7ed375",
   "metadata": {
    "tags": []
   },
   "outputs": [],
   "source": [
    "base = base.merge(base_p[[\"Número\", \"Autorização\"]], left_on=\"Num Pedido\", right_on=\"Número\", how=\"left\")"
   ]
  },
  {
   "cell_type": "code",
   "execution_count": 12,
   "id": "c6e5bf2f-42ee-4ec5-b798-646210a4319a",
   "metadata": {
    "tags": []
   },
   "outputs": [],
   "source": [
    "base_linhas_st = (base[\"St\"] == \"C\").value_counts()"
   ]
  },
  {
   "cell_type": "code",
   "execution_count": 13,
   "id": "13eecacb-55a7-48b4-a3a0-7b03023de2d0",
   "metadata": {
    "tags": []
   },
   "outputs": [
    {
     "name": "stdout",
     "output_type": "stream",
     "text": [
      "St\n",
      "False    1395300\n",
      "True      190057\n",
      "Name: count, dtype: int64\n"
     ]
    }
   ],
   "source": [
    "# Quantidade de linhas com pedidos cancelados: 'True'\n",
    "print(base_linhas_st)"
   ]
  },
  {
   "cell_type": "code",
   "execution_count": 14,
   "id": "6f35cdc3-9d60-4367-b323-b5e4ee557bc0",
   "metadata": {
    "tags": []
   },
   "outputs": [],
   "source": [
    "base_relatorio = base.drop(base[base[\"St\"] == \"C\"].index)"
   ]
  },
  {
   "cell_type": "code",
   "execution_count": 15,
   "id": "cadfaa1c-2c48-427f-b083-500e3dd5c75b",
   "metadata": {
    "tags": []
   },
   "outputs": [],
   "source": [
    "base_linhas_pend = (base[\"Autorização\"] == \"P\").value_counts()"
   ]
  },
  {
   "cell_type": "code",
   "execution_count": 16,
   "id": "2fc79667-0381-4226-a17e-f040793966a6",
   "metadata": {
    "tags": []
   },
   "outputs": [
    {
     "name": "stdout",
     "output_type": "stream",
     "text": [
      "Autorização\n",
      "False    1582557\n",
      "True        2800\n",
      "Name: count, dtype: int64\n"
     ]
    }
   ],
   "source": [
    "# Quantidade de linhas com pedidos pendentes: 'True'\n",
    "print(base_linhas_pend)"
   ]
  },
  {
   "cell_type": "code",
   "execution_count": 17,
   "id": "08db58e8-c304-41c5-a183-3af7f2cca0a4",
   "metadata": {
    "tags": []
   },
   "outputs": [
    {
     "name": "stdout",
     "output_type": "stream",
     "text": [
      "Base após remover pedidos cancelados: (1395300, 35)\n"
     ]
    }
   ],
   "source": [
    "print(\"Base após remover pedidos cancelados: \" + str(base_relatorio.shape))"
   ]
  },
  {
   "cell_type": "code",
   "execution_count": 18,
   "id": "92580a4d-170a-4349-b6d7-fbb98b60e965",
   "metadata": {
    "tags": []
   },
   "outputs": [],
   "source": [
    "base_relatorio = base_relatorio.drop(base_relatorio[base_relatorio[\"Autorização\"] == \"P\"].index)"
   ]
  },
  {
   "cell_type": "code",
   "execution_count": 19,
   "id": "cea71af7-ce44-4156-bc87-05f81af8b372",
   "metadata": {
    "tags": []
   },
   "outputs": [
    {
     "name": "stdout",
     "output_type": "stream",
     "text": [
      "Base após remover pedidos pendentes: (1392500, 35)\n"
     ]
    }
   ],
   "source": [
    "#Base após remover incluidos\n",
    "print(\"Base após remover pedidos pendentes: \" + str(base_relatorio.shape))"
   ]
  },
  {
   "cell_type": "code",
   "execution_count": 20,
   "id": "0349a2b1-ffa5-41ba-8bf2-25dc03c77583",
   "metadata": {
    "tags": []
   },
   "outputs": [],
   "source": [
    "# Exclusão das linhas excedentes de relacionamentos\n",
    "base_relatorio = base_relatorio.drop(\"Unnamed: 30\", axis=1)\n",
    "base_relatorio = base_relatorio.drop(\"Número_x\", axis=1)\n",
    "base_relatorio = base_relatorio.drop(\"St\", axis=1)\n",
    "base_relatorio = base_relatorio.drop(\"Número_y\", axis=1)\n",
    "base_relatorio = base_relatorio.drop(\"Autorização\", axis=1)"
   ]
  },
  {
   "cell_type": "code",
   "execution_count": 21,
   "id": "76b04bfd-bdc5-40af-8e97-c538e7ded6e8",
   "metadata": {
    "tags": []
   },
   "outputs": [],
   "source": [
    "# Manter datas vazias\n",
    "base_relatorio = base_relatorio[pd.isna(base_relatorio[\"Data NFE\"])]"
   ]
  },
  {
   "cell_type": "code",
   "execution_count": 22,
   "id": "31fddf91-652d-4e2e-a6b1-fd8a8941b2fc",
   "metadata": {
    "tags": []
   },
   "outputs": [
    {
     "name": "stdout",
     "output_type": "stream",
     "text": [
      "Base após remover colunas excedentes: (147247, 30)\n"
     ]
    }
   ],
   "source": [
    "print(\"Base após remover colunas excedentes: \" + str(base_relatorio.shape))"
   ]
  },
  {
   "cell_type": "code",
   "execution_count": 23,
   "id": "9fad491a-720a-4577-9e0e-fc00ee4720e4",
   "metadata": {
    "tags": []
   },
   "outputs": [],
   "source": [
    "# Número de linhas vazias no campo Origem\n",
    "numero_de_linhas_com_0 = (base_relatorio[\"Origem\"] == 0).sum()"
   ]
  },
  {
   "cell_type": "code",
   "execution_count": 24,
   "id": "9d22fd5c-df65-4c9a-a07c-a043f7b81f02",
   "metadata": {
    "tags": []
   },
   "outputs": [
    {
     "name": "stdout",
     "output_type": "stream",
     "text": [
      "8\n"
     ]
    }
   ],
   "source": [
    "print(numero_de_linhas_com_0)"
   ]
  },
  {
   "cell_type": "code",
   "execution_count": 25,
   "id": "e8ce5080-4407-42fe-b559-18621f4ce868",
   "metadata": {
    "tags": []
   },
   "outputs": [],
   "source": [
    "# Copia o número do pedido quando o valor da coluna \"Origem\" for igual a 0.\n",
    "base_relatorio.loc[base_relatorio[\"Origem\"] == 0, \"Origem\"] = base_relatorio[\"Num Pedido\"]"
   ]
  },
  {
   "cell_type": "code",
   "execution_count": 26,
   "id": "2cdc6e2a-c8e4-4e5c-a06b-0215b54f013e",
   "metadata": {},
   "outputs": [],
   "source": [
    "numero_de_linhas_com_0 = (base_relatorio[\"Origem\"] == 0).sum()"
   ]
  },
  {
   "cell_type": "code",
   "execution_count": 27,
   "id": "f78e479d-542a-4362-a71f-6e4fecb5aa12",
   "metadata": {
    "tags": []
   },
   "outputs": [
    {
     "name": "stdout",
     "output_type": "stream",
     "text": [
      "0\n"
     ]
    }
   ],
   "source": [
    "print(numero_de_linhas_com_0)"
   ]
  },
  {
   "cell_type": "code",
   "execution_count": 28,
   "id": "3732df8c-ac59-42d6-8f8c-c92d9680228d",
   "metadata": {
    "tags": []
   },
   "outputs": [],
   "source": [
    "# Conversão das colunas para o tipo Datetime.\n",
    "base_relatorio[\"Data\"] = pd.to_datetime(base_relatorio[\"Data\"], format=\"%d/%m/%Y\", errors=\"coerce\")\n",
    "base_relatorio[\"Previsao\"] = pd.to_datetime(base_relatorio[\"Previsao\"], format=\"%d/%m/%Y\", errors=\"coerce\")\n",
    "base_relatorio[\"Data Baixa\"] = pd.to_datetime(base_relatorio[\"Data Baixa\"], format=\"%d/%m/%Y\", errors=\"coerce\")"
   ]
  },
  {
   "cell_type": "code",
   "execution_count": 29,
   "id": "09005150-b1d6-4f75-bd28-191d7b046156",
   "metadata": {
    "tags": []
   },
   "outputs": [],
   "source": [
    "# Formata em data abreviada.\n",
    "#base_relatorio[\"Data\"] = base_relatorio[\"Data\"].dt.strftime(\"%d/%m/%Y\")\n",
    "#base_relatorio[\"Previsao\"] = base_relatorio[\"Previsao\"].dt.strftime(\"%d/%m/%Y\")\n",
    "#base_relatorio[\"Data Baixa\"] = base_relatorio[\"Data Baixa\"].dt.strftime(\"%d/%m/%Y\")"
   ]
  },
  {
   "cell_type": "code",
   "execution_count": 30,
   "id": "4a23716f-e934-4c2f-b402-c35a9fe2e355",
   "metadata": {
    "tags": []
   },
   "outputs": [],
   "source": [
    "#pd.options.display.max_columns = None"
   ]
  },
  {
   "cell_type": "code",
   "execution_count": 31,
   "id": "9b91b59b-914e-4605-89cf-b58d521cf1d2",
   "metadata": {
    "tags": []
   },
   "outputs": [],
   "source": [
    "#Consultados os dados da coluna Forma Aquisicao\n",
    "base_linhas_FA = (base_relatorio[\"Forma Aquisicao\"]).value_counts()"
   ]
  },
  {
   "cell_type": "code",
   "execution_count": 32,
   "id": "ed1edb9e-b9f2-4c62-bbc0-d86709b8129f",
   "metadata": {
    "tags": []
   },
   "outputs": [
    {
     "name": "stdout",
     "output_type": "stream",
     "text": [
      "Forma Aquisicao\n",
      "SI    66464\n",
      "CC    34678\n",
      "CD    26073\n",
      "DT    20032\n",
      "Name: count, dtype: int64\n"
     ]
    }
   ],
   "source": [
    "print(base_linhas_FA)"
   ]
  },
  {
   "cell_type": "code",
   "execution_count": 33,
   "id": "97da870e-05d7-46d2-a965-c86c0f43456c",
   "metadata": {
    "tags": []
   },
   "outputs": [],
   "source": [
    "# Deletando os dados da coluna Forma Aquisicao.\n",
    "base_relatorio[\"Forma Aquisicao\"] = ''"
   ]
  },
  {
   "cell_type": "code",
   "execution_count": 34,
   "id": "6891ec7c-3691-4586-8e55-35caacb52973",
   "metadata": {},
   "outputs": [],
   "source": [
    "base_linhas_FA = (base_relatorio[\"Forma Aquisicao\"]).value_counts()"
   ]
  },
  {
   "cell_type": "code",
   "execution_count": 35,
   "id": "96391513-62fd-4ac1-9486-ed4aeca1d5d6",
   "metadata": {
    "tags": []
   },
   "outputs": [
    {
     "name": "stdout",
     "output_type": "stream",
     "text": [
      "Forma Aquisicao\n",
      "    147247\n",
      "Name: count, dtype: int64\n"
     ]
    }
   ],
   "source": [
    "print(base_linhas_FA)"
   ]
  },
  {
   "cell_type": "code",
   "execution_count": 36,
   "id": "7838a5e2-114e-49cf-941f-d8010db32285",
   "metadata": {
    "tags": []
   },
   "outputs": [],
   "source": [
    "# Conversão para tipo float. \n",
    "base_relatorio[\"Valor\"] = base_relatorio[\"Valor\"].str.replace(\".\", \"\").str.replace(\",\", \".\").astype(float)"
   ]
  },
  {
   "cell_type": "code",
   "execution_count": 37,
   "id": "5e6a9516-a9fe-4cf3-b092-263dc41f7171",
   "metadata": {
    "tags": []
   },
   "outputs": [],
   "source": [
    "# Ordena a coluna \"Valor\" do maior para o menor valor.\n",
    "base_relatorio = base_relatorio.sort_values(by=\"Valor\", ascending=False)"
   ]
  },
  {
   "cell_type": "code",
   "execution_count": 38,
   "id": "369ce179-5421-43b7-8f0d-a99be89966db",
   "metadata": {
    "tags": []
   },
   "outputs": [],
   "source": [
    "# Formata a coluna valor para o formato contábil R$\n",
    "base_relatorio[\"Valor\"] = base_relatorio[\"Valor\"].map(\"R$ {:,.2f}\".format).str.replace(\".\", \"|\").str.replace(\",\", \".\").str.replace(\"|\", \",\")"
   ]
  },
  {
   "cell_type": "code",
   "execution_count": 39,
   "id": "d44e35c5-67fc-4945-a917-1b9333a1aa09",
   "metadata": {
    "tags": []
   },
   "outputs": [
    {
     "name": "stdout",
     "output_type": "stream",
     "text": [
      "Base_relatorio atualmente possui: (147247, 30)\n"
     ]
    }
   ],
   "source": [
    "print(\"Base_relatorio atualmente possui: \" + str(base_relatorio.shape))"
   ]
  },
  {
   "cell_type": "code",
   "execution_count": 40,
   "id": "6da5ce0d-b509-4446-a7de-c50161a9a07e",
   "metadata": {
    "tags": []
   },
   "outputs": [],
   "source": [
    "\"\"\"\n",
    "   Esta função verifica se a coluna \"Origem\" tem campos nulos. Se não for nulo, a chave\n",
    "   é criada combinando o dado convertido em string da coluna \"Origem\" com o dado em string\n",
    "   da coluna \"Cod. Produto\". Se o dado da coluna \"Origem\" for nulo, a chave é criada combinando\n",
    "   a versão em string do dado na coluna \"Num Pedido\" com o dado convertido em string do valor em\n",
    "   'Cod. Produto'.\n",
    "\"\"\"\n",
    "\n",
    "def criar_chave(row):\n",
    "    if pd.notna(row[\"Origem\"]):\n",
    "        origem_str = str(int(row[\"Origem\"]))  # converte para string\n",
    "        cod_produto_str = str(row[\"Cod. Produto\"]) # converte para string\n",
    "        return origem_str + cod_produto_str\n",
    "    else:\n",
    "        num_pedido_str = str(row[\"Num Pedido\"])\n",
    "        cod_produto_str = str(row[\"Cod. Produto\"])\n",
    "        return num_pedido_str + cod_produto_str # o retorno é uma concatenção entre dados de duas colunas"
   ]
  },
  {
   "cell_type": "code",
   "execution_count": 41,
   "id": "75b1c63b-0687-47a9-93a8-ffd8e1d3468d",
   "metadata": {
    "tags": []
   },
   "outputs": [],
   "source": [
    "# Criando a nova coluna \"Chave\" aplicando a função a cada linha do dataframe\n",
    "base_relatorio[\"Chave\"] = base_relatorio.apply(criar_chave, axis=1)"
   ]
  },
  {
   "cell_type": "code",
   "execution_count": 42,
   "id": "1f53d206-8a1e-4bce-b88d-7759348da0b5",
   "metadata": {
    "tags": []
   },
   "outputs": [],
   "source": [
    "# Reordenar colunas para a primeira posição\n",
    "colunas = base_relatorio.columns.tolist()\n",
    "colunas = [\"Chave\"] + [coluna for coluna in colunas if coluna != \"Chave\"]\n",
    "base_relatorio = base_relatorio[colunas]"
   ]
  },
  {
   "cell_type": "code",
   "execution_count": 43,
   "id": "87dcbe9f-28d1-4512-af6a-13a499a709d6",
   "metadata": {
    "tags": []
   },
   "outputs": [],
   "source": [
    "# Base pendentes.txt\n",
    "base_p = pd.read_csv(\"Relatorio_pendentes/pendentes.txt\", sep=\"|\", encoding=\"iso8859-1\")"
   ]
  },
  {
   "cell_type": "code",
   "execution_count": 44,
   "id": "81fb183d-4abe-40d1-aad3-aefafb154e60",
   "metadata": {
    "tags": []
   },
   "outputs": [],
   "source": [
    "# Buscando a coluna \"Dcto\" da base acima\n",
    "base_relatorio = base_relatorio.merge(base_p[[\"Número\", \"Dcto\"]], left_on=\"Num Pedido\", right_on=\"Número\", how=\"left\")"
   ]
  },
  {
   "cell_type": "code",
   "execution_count": 45,
   "id": "8462d0d8-f495-482a-9851-48f452920122",
   "metadata": {},
   "outputs": [],
   "source": [
    "# Buscando a coluna \"Nome Usuário\" da base \"pendentes\"\n",
    "base_relatorio = base_relatorio.merge(base_p[[\"Número\", \"Nome Usuário\"]], left_on=\"Num Pedido\", right_on=\"Número\", how=\"left\")"
   ]
  },
  {
   "cell_type": "code",
   "execution_count": 46,
   "id": "32ef983b-3454-4ece-b24c-39bcc9b13a13",
   "metadata": {
    "tags": []
   },
   "outputs": [],
   "source": [
    "# Reorganiza a coluna \"Dcto\" para posição +1 na referência da coluna \"Chave\"\n",
    "colunas = list(base_relatorio.columns)\n",
    "colunas.remove(\"Dcto\")\n",
    "colunas.insert(colunas.index(\"Chave\") + 1, \"Dcto\")\n",
    "base_relatorio = base_relatorio[colunas]"
   ]
  },
  {
   "cell_type": "code",
   "execution_count": 47,
   "id": "359e3071-9fe4-4902-bcd6-ed7df49e465c",
   "metadata": {
    "tags": []
   },
   "outputs": [],
   "source": [
    "# Função para determinar o valor da coluna \"Tipo Pedido\" com base na validação\n",
    "def determinar_tipo_pedido(row):\n",
    "    if \"7078\" in str(row[\"Dcto\"]) or \"7069\" in str(row[\"Dcto\"]) or \"7709\" in str(row[\"Dcto\"]):\n",
    "        return \"Automatico\"\n",
    "    else:\n",
    "        return \"Manual\""
   ]
  },
  {
   "cell_type": "code",
   "execution_count": 48,
   "id": "b498ea4e-3df7-4836-9c79-172edfc78b90",
   "metadata": {
    "tags": []
   },
   "outputs": [],
   "source": [
    "# Cria a nova coluna \"Tipo Pedido\" aplicando a função a cada linha do dataframe\n",
    "base_relatorio[\"Tipo Pedido\"] = base_relatorio.apply(determinar_tipo_pedido, axis=1)"
   ]
  },
  {
   "cell_type": "code",
   "execution_count": 49,
   "id": "02d51ac0-8c6e-456d-bd6e-16c89d7d3e5f",
   "metadata": {
    "tags": []
   },
   "outputs": [],
   "source": [
    "# Reorganiza a coluna \"Tipo Pedido\" para posição +1 na referência da coluna \"Dcto\"\n",
    "colunas = list(base_relatorio.columns)\n",
    "colunas.remove(\"Tipo Pedido\")\n",
    "colunas.insert(colunas.index(\"Dcto\") + 1, \"Tipo Pedido\")\n",
    "base_relatorio = base_relatorio[colunas]"
   ]
  },
  {
   "cell_type": "code",
   "execution_count": 50,
   "id": "61201341-45e4-4cd4-b369-dd2af7f0c965",
   "metadata": {
    "tags": []
   },
   "outputs": [],
   "source": [
    "# Função para determinar o valor da coluna \"Classificacao Pedido\" com base na validação\n",
    "def determinar_classificacao_pedido(row):\n",
    "    if pd.isna(row[\"Origem\"]) or row[\"Origem\"] == '':\n",
    "        return \"Original\"\n",
    "    else:\n",
    "        return \"Saldo\""
   ]
  },
  {
   "cell_type": "code",
   "execution_count": 51,
   "id": "72e65f1b-8986-47d9-9ac9-aaa9d4d0c95b",
   "metadata": {
    "tags": []
   },
   "outputs": [],
   "source": [
    "# Crie a nova coluna \"Classificacao Pedido\" aplicando a função a cada linha do dataframe\n",
    "base_relatorio[\"Classificacao Pedido\"] = base_relatorio.apply(determinar_classificacao_pedido, axis=1)"
   ]
  },
  {
   "cell_type": "code",
   "execution_count": 52,
   "id": "22bc7b8e-c24f-483d-afbb-022d479b1316",
   "metadata": {
    "tags": []
   },
   "outputs": [],
   "source": [
    "# Reorganize a coluna \"Classificacao Pedido\" para posição +1 na referência da coluna \"Tipo Pedido\"\n",
    "colunas = list(base_relatorio.columns)\n",
    "colunas.remove(\"Classificacao Pedido\")\n",
    "colunas.insert(colunas.index(\"Tipo Pedido\") + 1, \"Classificacao Pedido\")\n",
    "base_relatorio = base_relatorio[colunas]"
   ]
  },
  {
   "cell_type": "code",
   "execution_count": 53,
   "id": "49821c60-2514-4c41-8ff7-0738686a2aae",
   "metadata": {
    "tags": []
   },
   "outputs": [],
   "source": [
    "# Reorganize a coluna \"Nome Usuário\" para posição +1 na referência da coluna \"Classificacao Pedido\"\n",
    "colunas = list(base_relatorio.columns)\n",
    "colunas.remove(\"Nome Usuário\")\n",
    "colunas.insert(colunas.index(\"Classificacao Pedido\") + 1, \"Nome Usuário\")\n",
    "base_relatorio = base_relatorio[colunas]"
   ]
  },
  {
   "cell_type": "code",
   "execution_count": 54,
   "id": "28725913-96c7-4ddc-8abd-8a41fb00cd17",
   "metadata": {
    "tags": []
   },
   "outputs": [],
   "source": [
    "# Exclusão de colunas excedentes utilizadas em merges\n",
    "base_relatorio = base_relatorio.drop(\"Número_x\", axis=1)\n",
    "base_relatorio = base_relatorio.drop(\"Número_y\", axis=1)"
   ]
  },
  {
   "cell_type": "code",
   "execution_count": 55,
   "id": "035bbc9c-64be-406c-ac55-b05cba59146f",
   "metadata": {
    "tags": []
   },
   "outputs": [],
   "source": [
    "# Colunas para remover dados duplicados\n",
    "colunas_chave = ['Nome Usuário', 'Transacao', 'Origem', 'Fornecedor', 'Nome do Fornecedor', 'Data', \n",
    "                 'Previsao', 'Data Baixa', 'Data Criação Agenda', 'Status Agenda', 'Data Agenda', \n",
    "                 'Data NFE', 'Cod. Produto', 'Nome do Produto', 'Marca', 'Num Pedido', 'Unid', 'Qtde', \n",
    "                 'Qtde. Emb', 'Valor', 'Distribuicao', 'Forma Aquisicao', 'Departamento', 'Grupo', \n",
    "                 'Cod. Barras', 'NF-e Chave de Acesso', 'NF-e Transacao', 'NF-e Qtde', 'NF-e Valor', \n",
    "                 'Nº Nota Fiscal', 'Tipo Frete']"
   ]
  },
  {
   "cell_type": "code",
   "execution_count": 56,
   "id": "b1b0d117-8722-47bd-8ecf-f8af780d9e20",
   "metadata": {
    "tags": []
   },
   "outputs": [
    {
     "data": {
      "text/plain": [
       "(147247, 35)"
      ]
     },
     "execution_count": 56,
     "metadata": {},
     "output_type": "execute_result"
    }
   ],
   "source": [
    "base_relatorio.shape"
   ]
  },
  {
   "cell_type": "code",
   "execution_count": 57,
   "id": "a0594537-d27a-4eb5-b059-1ef8526cd542",
   "metadata": {
    "tags": []
   },
   "outputs": [],
   "source": [
    "# Remoção de dados duplicados com base nas colunas especificadas na variável colunas_chave\n",
    "base_relatorio = base_relatorio.drop_duplicates(subset=colunas_chave)"
   ]
  },
  {
   "cell_type": "code",
   "execution_count": 58,
   "id": "a18100ae-593e-400e-9f1e-dce83d7c5083",
   "metadata": {
    "tags": []
   },
   "outputs": [
    {
     "data": {
      "text/plain": [
       "(106892, 35)"
      ]
     },
     "execution_count": 58,
     "metadata": {},
     "output_type": "execute_result"
    }
   ],
   "source": [
    "base_relatorio.shape"
   ]
  },
  {
   "cell_type": "code",
   "execution_count": 59,
   "id": "996434b9-2e66-4568-a4e7-9a9579159d31",
   "metadata": {
    "tags": []
   },
   "outputs": [],
   "source": [
    "# Remova as duplicatas com base apenas na coluna \"Chave\"\n",
    "base_relatorio = base_relatorio.drop_duplicates(subset=\"Chave\")"
   ]
  },
  {
   "cell_type": "code",
   "execution_count": 60,
   "id": "c829d8f2-afaa-4c20-a6bc-dbc738c5f315",
   "metadata": {
    "tags": []
   },
   "outputs": [
    {
     "data": {
      "text/plain": [
       "(51749, 35)"
      ]
     },
     "execution_count": 60,
     "metadata": {},
     "output_type": "execute_result"
    }
   ],
   "source": [
    "base_relatorio.shape"
   ]
  },
  {
   "cell_type": "code",
   "execution_count": 61,
   "id": "0d917af7-6267-4e07-9cb5-22059e813b6d",
   "metadata": {
    "tags": []
   },
   "outputs": [],
   "source": [
    "# Exclusão de duas colunas pois não terá necessidade na última fase de tratamento para o dashboard\n",
    "base_relatorio = base_relatorio.drop(\"Chave\", axis=1)\n",
    "base_relatorio = base_relatorio.drop(\"Dcto\", axis=1)"
   ]
  },
  {
   "cell_type": "code",
   "execution_count": 62,
   "id": "ba268862-d791-4ee2-9204-01bde72c9caa",
   "metadata": {
    "tags": []
   },
   "outputs": [
    {
     "data": {
      "text/plain": [
       "(51749, 33)"
      ]
     },
     "execution_count": 62,
     "metadata": {},
     "output_type": "execute_result"
    }
   ],
   "source": [
    "base_relatorio.shape"
   ]
  },
  {
   "cell_type": "code",
   "execution_count": 63,
   "id": "030a7d02-f626-45ea-829d-d8f0f2544df7",
   "metadata": {
    "tags": []
   },
   "outputs": [],
   "source": [
    "# Obtém a data atual\n",
    "data_atual = datetime.now()"
   ]
  },
  {
   "cell_type": "code",
   "execution_count": 64,
   "id": "6cb82727-e143-4f18-8109-fea71e531bfc",
   "metadata": {
    "tags": []
   },
   "outputs": [],
   "source": [
    "# Calcula a data com até dois meses anteriores ao mês atual\n",
    "data_limite_2_meses = data_atual - timedelta(days=data_atual.day + 1)\n",
    "data_limite_2_meses = data_limite_2_meses.replace(day=1)"
   ]
  },
  {
   "cell_type": "code",
   "execution_count": 65,
   "id": "530406ec-83ec-44db-8f4e-2036373915fc",
   "metadata": {
    "tags": []
   },
   "outputs": [],
   "source": [
    "# Calcula a data com 7 dias inferior ao dia atual\n",
    "data_limite_7_dias = data_atual - timedelta(days=8)"
   ]
  },
  {
   "cell_type": "code",
   "execution_count": 66,
   "id": "2a79e2f2-d6b6-4cd4-a961-c2dc9f0dee3c",
   "metadata": {
    "tags": []
   },
   "outputs": [],
   "source": [
    "# Filtra o DataFrame com base nas condições especificadas\n",
    "#base_pedidos = base_relatorio[(base_relatorio['Previsao'] < data_limite_2_meses) | ((base_relatorio['Previsao'] >= data_limite_2_meses) & (base_relatorio['Previsao'] < data_limite_7_dias))]\n",
    "base_pedidos = base_relatorio[(base_relatorio['Previsao'] >= data_limite_2_meses) & (base_relatorio['Previsao'] >= data_limite_7_dias)]\n"
   ]
  },
  {
   "cell_type": "code",
   "execution_count": 67,
   "id": "8f7c41ad-29b6-4755-b72f-b589a46f9223",
   "metadata": {
    "tags": []
   },
   "outputs": [],
   "source": [
    "base_relatorio = base_pedidos"
   ]
  },
  {
   "cell_type": "code",
   "execution_count": 68,
   "id": "fc924c54-216f-4e44-945f-53deac088777",
   "metadata": {
    "tags": []
   },
   "outputs": [
    {
     "data": {
      "text/plain": [
       "(51364, 33)"
      ]
     },
     "execution_count": 68,
     "metadata": {},
     "output_type": "execute_result"
    }
   ],
   "source": [
    "base_relatorio.shape"
   ]
  },
  {
   "cell_type": "code",
   "execution_count": 69,
   "id": "3982c96b-d6e5-4e50-80db-313de4ae2740",
   "metadata": {
    "tags": []
   },
   "outputs": [],
   "source": [
    "# Caminho para salvar a base\n",
    "caminho_arquivo_xlsx = \"Base_relatorio/base_relatorio.xlsx\""
   ]
  },
  {
   "cell_type": "code",
   "execution_count": 70,
   "id": "499e9189-3356-4a24-a155-e0e4f2bb2051",
   "metadata": {
    "tags": []
   },
   "outputs": [],
   "source": [
    "# Salvando base tratada em excel\n",
    "base_relatorio.to_excel(caminho_arquivo_xlsx, index=False)"
   ]
  },
  {
   "cell_type": "code",
   "execution_count": 128,
   "id": "722aa46b-51ed-4b82-9dc4-2ad29b1d5148",
   "metadata": {
    "tags": []
   },
   "outputs": [
    {
     "data": {
      "image/png": "[encoded data removed]",
      "text/plain": [
       "<Figure size 800x600 with 2 Axes>"
      ]
     },
     "metadata": {},
     "output_type": "display_data"
    }
   ],
   "source": [
    "plt.figure(figsize=(8, 6)) \n",
    "contagem_tipo_pedido = base_relatorio['Tipo Pedido'].value_counts()\n",
    "\n",
    "# Gráfico de quantidade\n",
    "plt.subplot(121)\n",
    "plt.bar(contagem_tipo_pedido.index, contagem_tipo_pedido.values, color=\"orange\")\n",
    "for x, y in zip(contagem_tipo_pedido.index, contagem_tipo_pedido.values):\n",
    "    plt.text(x, y, str(y), ha='center', va='bottom')\n",
    "plt.xlabel('Tipo de Pedido')\n",
    "plt.ylabel('Quantidade')\n",
    "plt.title('Qtde de Pedidos Manuais vs Automáticos')\n",
    "\n",
    "# Gráfico de percentual\n",
    "percentuais = (contagem_tipo_pedido / contagem_tipo_pedido.sum() * 100)\n",
    "plt.subplot(122)\n",
    "plt.bar(percentuais.index, percentuais.values)\n",
    "for x, y in zip(percentuais.index, percentuais.values):\n",
    "    plt.text(x, y, f'{y:.1f}%', ha='center', va='bottom')\n",
    "plt.xlabel('Tipo de Pedido')\n",
    "plt.ylabel('Percentual (%)')\n",
    "plt.title('% de Pedidos Manual vs Automático')\n",
    "\n",
    "plt.tight_layout()\n",
    "plt.show()"
   ]
  }
 ],
 "metadata": {
  "kernelspec": {
   "display_name": "Python 3 (ipykernel)",
   "language": "python",
   "name": "python3"
  },
  "language_info": {
   "codemirror_mode": {
    "name": "ipython",
    "version": 3
   },
   "file_extension": ".py",
   "mimetype": "text/x-python",
   "name": "python",
   "nbconvert_exporter": "python",
   "pygments_lexer": "ipython3",
   "version": "3.11.5"
  }
 },
 "nbformat": 4,
 "nbformat_minor": 5
}
